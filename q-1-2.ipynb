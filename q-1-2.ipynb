{
 "cells": [
  {
   "cell_type": "code",
   "execution_count": 1,
   "metadata": {},
   "outputs": [],
   "source": [
    "import pandas as pd\n",
    "import numpy as np\n",
    "from sklearn.neighbors import KNeighborsClassifier\n",
    "import sklearn as sk\n",
    "from sklearn.model_selection import train_test_split\n",
    "eps=np.finfo(float).eps\n",
    "from binarytree import tree,Node\n",
    "from sklearn.metrics import classification_report, confusion_matrix ,accuracy_score\n",
    "from sklearn.tree import DecisionTreeClassifier\n",
    "from operator import itemgetter\n",
    "import copy\n",
    "import collections\n",
    "from pylab import *\n",
    "import matplotlib\n",
    "import matplotlib.pyplot as plt\n",
    "from sklearn.preprocessing import StandardScaler\n",
    "from sklearn.decomposition import PCA as PCA\n",
    "import sys\n",
    "import copy\n",
    "from sklearn import metrics\n",
    "from sklearn.preprocessing import LabelEncoder\n",
    "from sklearn.metrics import accuracy_score\n",
    "from sklearn.metrics import confusion_matrix\n",
    "from sklearn.cluster import KMeans"
   ]
  },
  {
   "cell_type": "code",
   "execution_count": 2,
   "metadata": {},
   "outputs": [],
   "source": [
    "def mean(numbers):\n",
    "    return sum(numbers)/float(len(numbers))"
   ]
  },
  {
   "cell_type": "code",
   "execution_count": 3,
   "metadata": {},
   "outputs": [],
   "source": [
    "def stdev(numbers):\n",
    "    avg = mean(numbers)\n",
    "    varianceNum=0.0\n",
    "    for x in numbers:\n",
    "        varianceNum=varianceNum+pow(x-avg,2)\n",
    "    variance=varianceNum/float(len(numbers)-1)\n",
    "    return math.sqrt(variance)\n",
    "\n",
    "df=pd.read_csv(\"intrusion_detection/data.csv\")\n",
    "df\n",
    "df1=copy.deepcopy(df)\n",
    "col=list(df)\n",
    "mean1={}\n",
    "for i in col:\n",
    "    if i!=\"xAttack\":\n",
    "        mean1[i]=mean(df[i])\n",
    "std1={}\n",
    "for i in col:\n",
    "    if i!=\"xAttack\":\n",
    "        std1[i]=stdev(df[i])\n",
    "for i in col:\n",
    "    if i!='xAttack':\n",
    "        df[i]=(df[i]-mean1[i])/std1[i]\n",
    "        "
   ]
  },
  {
   "cell_type": "code",
   "execution_count": 4,
   "metadata": {},
   "outputs": [],
   "source": [
    "X = df.iloc[:,0:29].values\n",
    "y = df.iloc[:,29].values\n",
    "X_std=X\n",
    "meanVector = np.mean(X_std, axis=0)\n",
    "covMat = (X_std - meanVector).T.dot((X_std - meanVector)) / (X_std.shape[0]-1)\n",
    "eigValues, eigVectors = np.linalg.eig(covMat)\n",
    "eig_pairs=[]\n",
    "for i in range(len(eigValues)):\n",
    "    t=(np.abs(eigValues[i]), eigVectors[:,i])\n",
    "    eig_pairs.append(t)\n",
    "total=0\n",
    "eig_pairs.sort()\n",
    "eig_pairs.reverse()\n",
    "error=0\n",
    "for i in eig_pairs:\n",
    "    total+=i[0]\n",
    "j=0;\n",
    "arr=[]\n",
    "for i in eig_pairs:\n",
    "    error+=((i[0]/total)*100)\n",
    "    arr.append(i[1])\n",
    "#     print \n",
    "    j=j+1;\n",
    "    if(error>90):\n",
    "        break;\n",
    "arr=np.array(arr)\n",
    "X1=X_std.dot(arr.T)\n",
    "X1\n",
    "l=[];\n",
    "x=len(X1);\n",
    "for i in range(0,x):\n",
    "    l.append(i)\n",
    "Df = pd.DataFrame(data = X1,\n",
    "                  index=l)\n",
    "data=Df.values\n",
    "k=5\n",
    "c = data.shape[1]"
   ]
  },
  {
   "cell_type": "code",
   "execution_count": 5,
   "metadata": {},
   "outputs": [],
   "source": [
    "mean = np.mean(data,axis = 0)\n",
    "std = np.std(data, axis = 0)"
   ]
  },
  {
   "cell_type": "code",
   "execution_count": 6,
   "metadata": {},
   "outputs": [],
   "source": [
    "centers = np.random.randn(k,c)*std+mean"
   ]
  },
  {
   "cell_type": "code",
   "execution_count": 7,
   "metadata": {
    "scrolled": true
   },
   "outputs": [],
   "source": [
    "n=data.shape[0]"
   ]
  },
  {
   "cell_type": "code",
   "execution_count": 8,
   "metadata": {},
   "outputs": [],
   "source": [
    "def euclidean_distance(x, y): \n",
    "        return np.sqrt(np.sum((x - y) ** 2))"
   ]
  },
  {
   "cell_type": "code",
   "execution_count": 9,
   "metadata": {},
   "outputs": [],
   "source": [
    "centers_old = np.zeros(centers.shape)\n",
    "centers_new = copy.deepcopy(centers)\n",
    "clusters = np.zeros(n)\n",
    "distances = np.zeros((n,k))\n",
    "error=0\n",
    "for i in range(k):\n",
    "    error = error+euclidean_distance(centers_new[i],centers_old[i])"
   ]
  },
  {
   "cell_type": "markdown",
   "metadata": {},
   "source": [
    "* Assigning all points to current cluster center.\n",
    "* And than transforming the center according to assignment of points\n",
    "* Repeat step 1 and 2 till error==0 or itr<1000\n"
   ]
  },
  {
   "cell_type": "code",
   "execution_count": 10,
   "metadata": {
    "scrolled": true
   },
   "outputs": [],
   "source": [
    "itr=0\n",
    "while error!=0:\n",
    "    for i in range(k):\n",
    "        #getting distance of all point wrt to each cluster center\n",
    "        distances[:,i] = np.linalg.norm(data - centers_new[i], axis=1)\n",
    "    #assigning the cluster to each point whose distance is minimum\n",
    "    clusters = np.argmin(distances, axis = 1)\n",
    "    centers_old = copy.deepcopy(centers_new)\n",
    "    for i in range(k):\n",
    "        #if cluster has no point than reinitialize the process\n",
    "        if(len(data[clusters==i])==0):\n",
    "            centers = np.random.randn(5,14)\n",
    "            for j in range(k):\n",
    "                centers[j]=centers[j]*std+mean\n",
    "            centers_old = np.zeros(centers.shape)\n",
    "            centers_new = copy.deepcopy(centers)\n",
    "            clusters = np.zeros(n)\n",
    "            distances = np.zeros((n,k))\n",
    "            temp=0\n",
    "            for i in range(k):\n",
    "                temp = temp+euclidean_distance(centers_new[i],centers_old[i])\n",
    "            error=temp\n",
    "            itr=0\n",
    "            break;\n",
    "        else:\n",
    "            #assigning new center base on assignment of points i.e mean of all the points that belog to cluster==i\n",
    "            centers_new[i] = np.mean(data[clusters == i], axis=0)\n",
    "    temp=0\n",
    "    for i in range(k):\n",
    "        temp = temp+euclidean_distance(centers_new[i],centers_old[i])\n",
    "    error=temp\n",
    "    itr=itr+1"
   ]
  },
  {
   "cell_type": "code",
   "execution_count": 11,
   "metadata": {},
   "outputs": [],
   "source": [
    "labelencoder = LabelEncoder()\n",
    "y = labelencoder.fit_transform(y)\n",
    "\n",
    "ans=[]\n",
    "ans1=[]\n",
    "for i in range(k):\n",
    "    ans.append(np.count_nonzero(clusters==i))\n",
    "    ans1.append(np.count_nonzero(y==i))\n",
    "# print(ans)\n",
    "# print(ans1)"
   ]
  },
  {
   "cell_type": "code",
   "execution_count": 12,
   "metadata": {},
   "outputs": [],
   "source": [
    "def purityScore(y_true, y_pred):\n",
    "    contingency_matrix =metrics.cluster.contingency_matrix(y_true, y_pred)\n",
    "    return np.sum(np.amax(contingency_matrix, axis=0)) / np.sum(contingency_matrix) "
   ]
  },
  {
   "cell_type": "code",
   "execution_count": 13,
   "metadata": {},
   "outputs": [
    {
     "name": "stdout",
     "output_type": "stream",
     "text": [
      "--------------Purity of Kmeans----------------------\n",
      "0.8658363300072238\n"
     ]
    }
   ],
   "source": [
    "print(\"--------------Purity of Kmeans----------------------\")\n",
    "print(purityScore(y,clusters))"
   ]
  },
  {
   "cell_type": "code",
   "execution_count": 14,
   "metadata": {},
   "outputs": [],
   "source": [
    "X1 = df1.iloc[:,0:29].values\n",
    "y1 = df1.iloc[:,29].values\n",
    "x = StandardScaler().fit_transform(X1)\n",
    "pca = PCA(n_components=14)\n",
    "principalComponents = pca.fit_transform(x)\n",
    "principalDf = pd.DataFrame(data = principalComponents)\n",
    "X2=principalDf.values\n",
    "kmeans = KMeans(n_clusters=5)\n",
    "kmeans = kmeans.fit(X2)\n",
    "labels = kmeans.predict(X2)\n",
    "ans=[]\n",
    "ans1=[]\n",
    "for i in range(k):\n",
    "    ans.append(np.count_nonzero(labels==i))\n",
    "    ans1.append(np.count_nonzero(y==i))\n"
   ]
  },
  {
   "cell_type": "code",
   "execution_count": 15,
   "metadata": {},
   "outputs": [
    {
     "name": "stdout",
     "output_type": "stream",
     "text": [
      "--------------Purity of Kmeans System----------------------\n",
      "0.8652330261246458\n"
     ]
    }
   ],
   "source": [
    "print(\"--------------Purity of Kmeans System----------------------\")\n",
    "print(purityScore(y,labels))"
   ]
  }
 ],
 "metadata": {
  "kernelspec": {
   "display_name": "Python 3",
   "language": "python",
   "name": "python3"
  },
  "language_info": {
   "codemirror_mode": {
    "name": "ipython",
    "version": 3
   },
   "file_extension": ".py",
   "mimetype": "text/x-python",
   "name": "python",
   "nbconvert_exporter": "python",
   "pygments_lexer": "ipython3",
   "version": "3.6.7"
  }
 },
 "nbformat": 4,
 "nbformat_minor": 2
}
