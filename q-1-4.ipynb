{
 "cells": [
  {
   "cell_type": "code",
   "execution_count": 25,
   "metadata": {},
   "outputs": [],
   "source": [
    "import pandas as pd\n",
    "import numpy as np\n",
    "from sklearn.neighbors import KNeighborsClassifier\n",
    "import sklearn as sk\n",
    "from sklearn.model_selection import train_test_split\n",
    "eps=np.finfo(float).eps\n",
    "from binarytree import tree,Node\n",
    "from sklearn.metrics import classification_report, confusion_matrix ,accuracy_score\n",
    "from sklearn.metrics.cluster import contingency_matrix\n",
    "#sklearn.metrics.cluster.contingency_matrix\n",
    "from sklearn.tree import DecisionTreeClassifier\n",
    "from operator import itemgetter\n",
    "import copy\n",
    "import collections\n",
    "from pylab import *\n",
    "import matplotlib\n",
    "import matplotlib.pyplot as plt\n",
    "from sklearn.preprocessing import StandardScaler,LabelEncoder\n",
    "from sklearn.decomposition import PCA as PCA\n",
    "import sys\n",
    "import copy\n",
    "from sklearn import metrics\n",
    "from sklearn.cluster import AgglomerativeClustering\n",
    "from sklearn import mixture"
   ]
  },
  {
   "cell_type": "code",
   "execution_count": 26,
   "metadata": {},
   "outputs": [],
   "source": [
    "def mean(numbers):\n",
    "    return sum(numbers)/float(len(numbers))"
   ]
  },
  {
   "cell_type": "code",
   "execution_count": 27,
   "metadata": {},
   "outputs": [],
   "source": [
    "def stdev(numbers):\n",
    "    avg = mean(numbers)\n",
    "    varianceNum=0.0\n",
    "    for x in numbers:\n",
    "        varianceNum=varianceNum+pow(x-avg,2)\n",
    "    variance=varianceNum/float(len(numbers)-1)\n",
    "    return math.sqrt(variance)"
   ]
  },
  {
   "cell_type": "code",
   "execution_count": 28,
   "metadata": {},
   "outputs": [
    {
     "name": "stdout",
     "output_type": "stream",
     "text": [
      "14\n"
     ]
    }
   ],
   "source": [
    "df=pd.read_csv(\"data.csv\")\n",
    "df\n",
    "df1=copy.deepcopy(df)\n",
    "col=list(df)\n",
    "mean1={}\n",
    "for i in col:\n",
    "    if i!=\"xAttack\":\n",
    "        mean1[i]=mean(df[i])\n",
    "std1={}\n",
    "for i in col:\n",
    "    if i!=\"xAttack\":\n",
    "        std1[i]=stdev(df[i])\n",
    "for i in col:\n",
    "    if i!='xAttack':\n",
    "        df[i]=(df[i]-mean1[i])/std1[i]\n",
    "        \n",
    "X = df.iloc[:,0:29].values\n",
    "y = df.iloc[:,29].values\n",
    "X_std=X\n",
    "mean_vec = np.mean(X_std, axis=0)\n",
    "cov_mat = (X_std - mean_vec).T.dot((X_std - mean_vec)) / (X_std.shape[0]-1)\n",
    "eig_vals, eig_vecs = np.linalg.eig(cov_mat)\n",
    "eig_pairs=[]\n",
    "for i in range(len(eig_vals)):\n",
    "    t=(np.abs(eig_vals[i]), eig_vecs[:,i])\n",
    "    eig_pairs.append(t)\n",
    "total=0\n",
    "eig_pairs.sort()\n",
    "eig_pairs.reverse()\n",
    "for i in eig_pairs:\n",
    "    total+=i[0]\n",
    "error=0\n",
    "j=0;\n",
    "arr=[]\n",
    "for i in eig_pairs:\n",
    "    error+=((i[0]/total)*100)\n",
    "    arr.append(i[1])\n",
    "    print \n",
    "    j=j+1;\n",
    "    if(error>90):\n",
    "        break;\n",
    "print(j)\n",
    "arr=np.array(arr)\n",
    "X1=X_std.dot(arr.T)\n",
    "X1\n",
    "l=[];\n",
    "x=len(X1);\n",
    "for i in range(0,x):\n",
    "    l.append(i)\n",
    "Df = pd.DataFrame(data = X1,\n",
    "                  index=l)\n",
    "data=Df.values\n",
    "k=5\n",
    "c = data.shape[1]"
   ]
  },
  {
   "cell_type": "code",
   "execution_count": 29,
   "metadata": {},
   "outputs": [],
   "source": [
    "# print(type(data))"
   ]
  },
  {
   "cell_type": "code",
   "execution_count": 30,
   "metadata": {},
   "outputs": [],
   "source": [
    "# df=df.sample(n=20000)\n",
    "k = 5\n"
   ]
  },
  {
   "cell_type": "code",
   "execution_count": 31,
   "metadata": {},
   "outputs": [],
   "source": [
    "Y = df['xAttack']\n",
    "labelencoder = LabelEncoder()\n",
    "Y = labelencoder.fit_transform(Y)\n",
    "Y = np.array(Y)"
   ]
  },
  {
   "cell_type": "markdown",
   "metadata": {},
   "source": [
    "**Aggloromative Algorithm**\n",
    "* Compute the similarity between all the pairs of clusters. i.e., calculate the similarity matrix whose ijth\n",
    "  entry in matrix gives the similarity between the ith and jth pair of clusters.\n",
    "* Combine the foremost similar two clusters.\n",
    "* Update the similarity matrix to replicate the pairwise similarity between the new cluster and the\n",
    "  original clusters.\n",
    "* Repeat steps 2 and 3 until only a single cluster remains."
   ]
  },
  {
   "cell_type": "code",
   "execution_count": 32,
   "metadata": {},
   "outputs": [],
   "source": [
    "cluster = AgglomerativeClustering(n_clusters=k, affinity='euclidean', linkage='single')  \n",
    "labels = cluster.fit_predict(data)  "
   ]
  },
  {
   "cell_type": "code",
   "execution_count": 33,
   "metadata": {},
   "outputs": [],
   "source": [
    "cont = contingency_matrix(labels,Y)"
   ]
  },
  {
   "cell_type": "code",
   "execution_count": 34,
   "metadata": {},
   "outputs": [
    {
     "name": "stdout",
     "output_type": "stream",
     "text": [
      "--------------------Hierarchical Purity Score-----------------\n",
      "0.5347227778222258\n"
     ]
    }
   ],
   "source": [
    "ans = 0\n",
    "for i in cont:\n",
    "    ans = ans + max(i)\n",
    "purity = ans/len(df)\n",
    "print(\"--------------------Hierarchical Purity Score-----------------\")\n",
    "print(purity)"
   ]
  },
  {
   "cell_type": "code",
   "execution_count": 35,
   "metadata": {},
   "outputs": [
    {
     "data": {
      "image/png": "[encoded data removed]",
      "text/plain": [
       "<Figure size 432x288 with 1 Axes>"
      ]
     },
     "metadata": {},
     "output_type": "display_data"
    }
   ],
   "source": [
    "labels =  'KMeans', 'GMM', 'Hierarchical',\n",
    "sizes = [83.86241496193628, 86.10892810364126, 53.5]\n",
    "colors = ['gold', 'blue', 'yellow']\n",
    "explode = (0, 0, 0)\n",
    "plt.pie(sizes, explode=explode, labels=labels, colors=colors,\n",
    "autopct='%1.1f%%', shadow=True, startangle=140)\n",
    "plt.axis('equal')\n",
    "plt.show()"
   ]
  }
 ],
 "metadata": {
  "kernelspec": {
   "display_name": "Python 3",
   "language": "python",
   "name": "python3"
  },
  "language_info": {
   "codemirror_mode": {
    "name": "ipython",
    "version": 3
   },
   "file_extension": ".py",
   "mimetype": "text/x-python",
   "name": "python",
   "nbconvert_exporter": "python",
   "pygments_lexer": "ipython3",
   "version": "3.6.7"
  }
 },
 "nbformat": 4,
 "nbformat_minor": 2
}
