{
 "cells": [
  {
   "cell_type": "code",
   "execution_count": 4,
   "metadata": {},
   "outputs": [],
   "source": [
    "import numpy as np\n",
    "import pandas as pd\n",
    "from sklearn.preprocessing import LabelEncoder,OneHotEncoder\n",
    "import sklearn as sk\n",
    "from sklearn.model_selection import train_test_split\n",
    "from sklearn.metrics import r2_score\n",
    "from sklearn.metrics import classification_report, confusion_matrix ,accuracy_score,precision_score,recall_score\n",
    "import matplotlib\n",
    "import matplotlib.pyplot as plt"
   ]
  },
  {
   "cell_type": "code",
   "execution_count": 5,
   "metadata": {},
   "outputs": [],
   "source": [
    "prec=[]\n",
    "recall=[]\n",
    "threshold=[]\n",
    "thres=0.45\n",
    "for temp in range(12):\n",
    "    df=pd.read_csv(\"AdmissionDataset/data.csv\")\n",
    "    X =df.drop(['Chance of Admit ','Serial No.'],axis=1)\n",
    "    y=df['Chance of Admit ']\n",
    "\n",
    "    X = (X - X.mean())/X.std()\n",
    "    y=list(y)\n",
    "    for i in range(len(y)):\n",
    "        if y[i]>thres:\n",
    "            y[i]=1\n",
    "        else:\n",
    "            y[i]=0\n",
    "    y=pd.DataFrame({'Chance of Admit ':y\n",
    "\n",
    "    })\n",
    "\n",
    "\n",
    "    X_train, X_test, y_train, y_test = train_test_split(X, y, test_size=0.2)\n",
    "    features=['GRE Score','TOEFL Score','University Rating','SOP','LOR ','CGPA','Research']\n",
    "    intrain=X_train\n",
    "    intest=X_test\n",
    "    # y_train\n",
    "\n",
    "    def grad(thetaT):\n",
    "        return 1/(1+np.exp(-thetaT))\n",
    "\n",
    "\n",
    "    my_data=pd.concat([X_train,y_train],axis=1)\n",
    "\n",
    "    X=X_train\n",
    "\n",
    "    ones = np.ones([X.shape[0],1])\n",
    "\n",
    "\n",
    "    X = np.concatenate((ones,X),axis=1)\n",
    "\n",
    "\n",
    "\n",
    "    y=pd.DataFrame(y_train)\n",
    "    y=y.values\n",
    "    # y\n",
    "\n",
    "    theta = np.zeros([1,8])\n",
    "\n",
    "\n",
    "    alpha = 0.01\n",
    "\n",
    "    iters = 1000\n",
    "\n",
    "    def gradientDescent(X,y,theta,iters,alpha):\n",
    "        for i in range(iters):\n",
    "            theta = theta - (alpha/len(X)) * np.sum(X * (grad(X @ theta.T) - y), axis=0)\n",
    "\n",
    "        return theta\n",
    "\n",
    "    g = gradientDescent(X,y,theta,iters,alpha)\n",
    "    betaList=g[0]\n",
    "    ones = np.ones([X_test.shape[0],1])\n",
    "    X_test = np.concatenate((ones,X_test),axis=1)\n",
    "\n",
    "    y_pred=grad(X_test@betaList)\n",
    "\n",
    "    y_pred=list(y_pred)\n",
    "    df=pd.DataFrame({'Admit':y_pred})\n",
    "\n",
    "    df[df['Admit']<thres]=0\n",
    "    df[df['Admit']>=thres]=1\n",
    "    y_pred=list(df['Admit'])\n",
    "    threshold.append(thres)\n",
    "    thres=thres+.05\n",
    "    prec.append(precision_score(y_test,y_pred))\n",
    "    recall.append(recall_score(y_test,y_pred))"
   ]
  },
  {
   "cell_type": "code",
   "execution_count": 6,
   "metadata": {},
   "outputs": [
    {
     "data": {
      "text/plain": [
       "Text(0.5, 1.0, 'Threshold vs Accuracy')"
      ]
     },
     "execution_count": 6,
     "metadata": {},
     "output_type": "execute_result"
    },
    {
     "data": {
      "image/png": "[encoded data removed]",
      "text/plain": [
       "<Figure size 432x288 with 1 Axes>"
      ]
     },
     "metadata": {
      "needs_background": "light"
     },
     "output_type": "display_data"
    }
   ],
   "source": [
    "fig, ax = plt.subplots()\n",
    "ax.plot(threshold,prec, label=\"Precision\",marker=\"o\")\n",
    "ax.plot(threshold,recall, label=\"Recall\",marker=\"o\")\n",
    "ax.legend(loc=3) # left left corner\n",
    "ax.set_xlabel(\"Threshold\", fontsize=10)\n",
    "ax.set_ylabel(\"Precision/Recall\", fontsize=10)\n",
    "ax.set_title('Threshold vs Accuracy')"
   ]
  }
 ],
 "metadata": {
  "kernelspec": {
   "display_name": "Python 3",
   "language": "python",
   "name": "python3"
  },
  "language_info": {
   "codemirror_mode": {
    "name": "ipython",
    "version": 3
   },
   "file_extension": ".py",
   "mimetype": "text/x-python",
   "name": "python",
   "nbconvert_exporter": "python",
   "pygments_lexer": "ipython3",
   "version": "3.6.7"
  }
 },
 "nbformat": 4,
 "nbformat_minor": 2
}
